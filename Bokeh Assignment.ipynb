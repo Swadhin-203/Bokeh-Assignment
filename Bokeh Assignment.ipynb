{
 "cells": [
  {
   "cell_type": "code",
   "execution_count": null,
   "id": "38112c6f",
   "metadata": {},
   "outputs": [],
   "source": [
    "# Q1. How can you create a Bokeh plot using Python code?\n",
    "#Ans:\n",
    "Bokeh is a Python library used for creating interactive visualizations and plots.\n",
    "from bokeh.plotting import figure, output_file, show\n",
    "\n",
    "x = [1, 2, 3, 4, 5]\n",
    "y = [6, 7, 2, 4, 5]\n",
    "output_file(\"bokeh_plot.html\")\n",
    "\n",
    "p = figure(title=\"Bokeh Plot\", x_axis_label='x', y_axis_label='y')\n",
    "\n",
    "p.line(x, y, legend_label=\"Line\", line_width=2)\n",
    "\n",
    "show(p)\n"
   ]
  },
  {
   "cell_type": "markdown",
   "id": "80865018",
   "metadata": {},
   "source": [
    "Q2. What are glyphs in Bokeh, and how can you add them to a Bokeh plot? Explain with an example.\n",
    "Ans:Glyphs in Bokeh are graphical representations of data that can be added to a plot, such as markers, lines, and patches. These glyphs can be customized with various properties like size, color, transparency, and more, to create informative and visually appealing visualizations.\n",
    "\n",
    "To add glyphs to a Bokeh plot, we first create a figure using the figure() function from the Bokeh library. We can then call a glyph method on the figure object, such as circle(), line(), or rect(), passing in the data and any desired properties as arguments."
   ]
  },
  {
   "cell_type": "markdown",
   "id": "f687337e",
   "metadata": {},
   "source": [
    "Q3. How can you customize the appearance of a Bokeh plot, including the axes, title, and legend?\n",
    "Ans:1-To customize the appearance of a Bokeh plot, we can use various options provided by the Bokeh library. Some of the common options to customize the appearance of a Bokeh plot include:\n",
    "\n",
    "Changing the Title: We can add a title to the plot using the title attribute of the figure() method. \n",
    "2-Changing the Axes Labels: We can add labels to the x and y axes using the xaxis and yaxis attributes of the figure() method.\n",
    "3-Changing the Axes Range: We can set the range of the x and y axes using the x_range and y_range attributes of the figure() method.\n",
    "4-Changing the Legend: We can add a legend to the plot using the legend attribute of the glyph method.\n",
    "5-Changing the Plot Background: We can change the background color of the plot using the background_fill_color attribute of the figure() method\n",
    "6-Changing the Font and Text Size: We can change the font and text size of the plot using various attributes such as title_text_font, title_text_font_size, axis_label_text_font, axis_label_text_font_size, major_label_text_font, major_label_text_font_size,"
   ]
  },
  {
   "cell_type": "markdown",
   "id": "6960e73a",
   "metadata": {},
   "source": [
    "Q4. What is a Bokeh server, and how can you use it to create interactive plots that can be updated in\n",
    "real time?\n",
    "Ans:A Bokeh server is a Python application that allows for the creation of interactive data visualization applications. It enables the creation of dynamic and interactive data visualizations that can be updated in real-time. Bokeh server provides the ability to update plots, widgets, and data sources on-the-fly, enabling users to interact with the data and explore it in different ways.\n",
    "\n",
    "To use the Bokeh server to create interactive plots that can be updated in real-time, we need to define a Python function that creates the Bokeh plot. This function will be responsible for generating the initial visualization and for updating the visualization in response to user input.\n",
    "\n",
    "Once the function is defined, we can create a Bokeh application by creating a curdoc() object, which represents the current document. We can then define the layout of the Bokeh application, which typically includes the Bokeh plot and any associated widgets or controls.\n",
    "\n",
    "Next, we need to define the update() function that will be called whenever the data or the widget values change. This function should update the data sources used by the Bokeh plot and any associated widgets or controls.\n",
    "Finally, to be redrawn. The slider.on_change() method is used to register the update() function as a callback that is called whenever the slider value changes.\n",
    "\n",
    "To run the Bokeh server application, we can save the above code as a Python file (e.g., myapp.py) and then execute the following command in a terminal:\n",
    "\n"
   ]
  },
  {
   "cell_type": "markdown",
   "id": "f2721a55",
   "metadata": {},
   "source": [
    "Q5. How can you embed a Bokeh plot into a web page or dashboard using Flask or Django?\n",
    "Ans:To embed a Bokeh plot into a web page or dashboard using Flask or Django, you can follow these general steps:\n",
    "\n",
    "Create a Bokeh plot using the Bokeh library in Python.\n",
    "\n",
    "In your Flask or Django web application, define a route that returns the HTML code to embed the Bokeh plot in a web page or dashboard."
   ]
  },
  {
   "cell_type": "code",
   "execution_count": null,
   "id": "2de9535d",
   "metadata": {},
   "outputs": [],
   "source": []
  },
  {
   "cell_type": "code",
   "execution_count": null,
   "id": "6b03c4e6",
   "metadata": {},
   "outputs": [],
   "source": []
  },
  {
   "cell_type": "code",
   "execution_count": null,
   "id": "60c45ed0",
   "metadata": {},
   "outputs": [],
   "source": []
  },
  {
   "cell_type": "code",
   "execution_count": null,
   "id": "c1adcdff",
   "metadata": {},
   "outputs": [],
   "source": []
  },
  {
   "cell_type": "code",
   "execution_count": null,
   "id": "72c5c642",
   "metadata": {},
   "outputs": [],
   "source": []
  },
  {
   "cell_type": "code",
   "execution_count": null,
   "id": "f242e97c",
   "metadata": {},
   "outputs": [],
   "source": []
  },
  {
   "cell_type": "code",
   "execution_count": null,
   "id": "33842f16",
   "metadata": {},
   "outputs": [],
   "source": []
  }
 ],
 "metadata": {
  "kernelspec": {
   "display_name": "Python 3 (ipykernel)",
   "language": "python",
   "name": "python3"
  },
  "language_info": {
   "codemirror_mode": {
    "name": "ipython",
    "version": 3
   },
   "file_extension": ".py",
   "mimetype": "text/x-python",
   "name": "python",
   "nbconvert_exporter": "python",
   "pygments_lexer": "ipython3",
   "version": "3.10.5"
  }
 },
 "nbformat": 4,
 "nbformat_minor": 5
}
